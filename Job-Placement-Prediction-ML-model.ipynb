{
 "cells": [
  {
   "cell_type": "code",
   "execution_count": 1,
   "id": "43001d46-5513-4fb5-b728-49e4b6fa3654",
   "metadata": {},
   "outputs": [],
   "source": [
    "import pandas as pd\n",
    "import numpy as np"
   ]
  },
  {
   "cell_type": "code",
   "execution_count": 2,
   "id": "69bbc82f-99ec-49f2-9f26-99ac9d8bd424",
   "metadata": {},
   "outputs": [],
   "source": [
    "df=pd.read_csv('Job_Placement_Data.csv')"
   ]
  },
  {
   "cell_type": "code",
   "execution_count": 3,
   "id": "9161f25f-7f5d-41fc-bbcc-fbff8c5bac05",
   "metadata": {},
   "outputs": [
    {
     "data": {
      "text/html": [
       "<div>\n",
       "<style scoped>\n",
       "    .dataframe tbody tr th:only-of-type {\n",
       "        vertical-align: middle;\n",
       "    }\n",
       "\n",
       "    .dataframe tbody tr th {\n",
       "        vertical-align: top;\n",
       "    }\n",
       "\n",
       "    .dataframe thead th {\n",
       "        text-align: right;\n",
       "    }\n",
       "</style>\n",
       "<table border=\"1\" class=\"dataframe\">\n",
       "  <thead>\n",
       "    <tr style=\"text-align: right;\">\n",
       "      <th></th>\n",
       "      <th>gender</th>\n",
       "      <th>ssc_percentage</th>\n",
       "      <th>ssc_board</th>\n",
       "      <th>hsc_percentage</th>\n",
       "      <th>hsc_board</th>\n",
       "      <th>hsc_subject</th>\n",
       "      <th>degree_percentage</th>\n",
       "      <th>undergrad_degree</th>\n",
       "      <th>work_experience</th>\n",
       "      <th>emp_test_percentage</th>\n",
       "      <th>specialisation</th>\n",
       "      <th>mba_percent</th>\n",
       "      <th>status</th>\n",
       "    </tr>\n",
       "  </thead>\n",
       "  <tbody>\n",
       "    <tr>\n",
       "      <th>0</th>\n",
       "      <td>M</td>\n",
       "      <td>67.00</td>\n",
       "      <td>Others</td>\n",
       "      <td>91.00</td>\n",
       "      <td>Others</td>\n",
       "      <td>Commerce</td>\n",
       "      <td>58.00</td>\n",
       "      <td>Sci&amp;Tech</td>\n",
       "      <td>No</td>\n",
       "      <td>55.0</td>\n",
       "      <td>Mkt&amp;HR</td>\n",
       "      <td>58.80</td>\n",
       "      <td>Placed</td>\n",
       "    </tr>\n",
       "    <tr>\n",
       "      <th>1</th>\n",
       "      <td>M</td>\n",
       "      <td>79.33</td>\n",
       "      <td>Central</td>\n",
       "      <td>78.33</td>\n",
       "      <td>Others</td>\n",
       "      <td>Science</td>\n",
       "      <td>77.48</td>\n",
       "      <td>Sci&amp;Tech</td>\n",
       "      <td>Yes</td>\n",
       "      <td>86.5</td>\n",
       "      <td>Mkt&amp;Fin</td>\n",
       "      <td>66.28</td>\n",
       "      <td>Placed</td>\n",
       "    </tr>\n",
       "    <tr>\n",
       "      <th>2</th>\n",
       "      <td>M</td>\n",
       "      <td>65.00</td>\n",
       "      <td>Central</td>\n",
       "      <td>68.00</td>\n",
       "      <td>Central</td>\n",
       "      <td>Arts</td>\n",
       "      <td>64.00</td>\n",
       "      <td>Comm&amp;Mgmt</td>\n",
       "      <td>No</td>\n",
       "      <td>75.0</td>\n",
       "      <td>Mkt&amp;Fin</td>\n",
       "      <td>57.80</td>\n",
       "      <td>Placed</td>\n",
       "    </tr>\n",
       "    <tr>\n",
       "      <th>3</th>\n",
       "      <td>M</td>\n",
       "      <td>56.00</td>\n",
       "      <td>Central</td>\n",
       "      <td>52.00</td>\n",
       "      <td>Central</td>\n",
       "      <td>Science</td>\n",
       "      <td>52.00</td>\n",
       "      <td>Sci&amp;Tech</td>\n",
       "      <td>No</td>\n",
       "      <td>66.0</td>\n",
       "      <td>Mkt&amp;HR</td>\n",
       "      <td>59.43</td>\n",
       "      <td>Not Placed</td>\n",
       "    </tr>\n",
       "    <tr>\n",
       "      <th>4</th>\n",
       "      <td>M</td>\n",
       "      <td>85.80</td>\n",
       "      <td>Central</td>\n",
       "      <td>73.60</td>\n",
       "      <td>Central</td>\n",
       "      <td>Commerce</td>\n",
       "      <td>73.30</td>\n",
       "      <td>Comm&amp;Mgmt</td>\n",
       "      <td>No</td>\n",
       "      <td>96.8</td>\n",
       "      <td>Mkt&amp;Fin</td>\n",
       "      <td>55.50</td>\n",
       "      <td>Placed</td>\n",
       "    </tr>\n",
       "  </tbody>\n",
       "</table>\n",
       "</div>"
      ],
      "text/plain": [
       "  gender  ssc_percentage ssc_board  hsc_percentage hsc_board hsc_subject  \\\n",
       "0      M           67.00    Others           91.00    Others    Commerce   \n",
       "1      M           79.33   Central           78.33    Others     Science   \n",
       "2      M           65.00   Central           68.00   Central        Arts   \n",
       "3      M           56.00   Central           52.00   Central     Science   \n",
       "4      M           85.80   Central           73.60   Central    Commerce   \n",
       "\n",
       "   degree_percentage undergrad_degree work_experience  emp_test_percentage  \\\n",
       "0              58.00         Sci&Tech              No                 55.0   \n",
       "1              77.48         Sci&Tech             Yes                 86.5   \n",
       "2              64.00        Comm&Mgmt              No                 75.0   \n",
       "3              52.00         Sci&Tech              No                 66.0   \n",
       "4              73.30        Comm&Mgmt              No                 96.8   \n",
       "\n",
       "  specialisation  mba_percent      status  \n",
       "0         Mkt&HR        58.80      Placed  \n",
       "1        Mkt&Fin        66.28      Placed  \n",
       "2        Mkt&Fin        57.80      Placed  \n",
       "3         Mkt&HR        59.43  Not Placed  \n",
       "4        Mkt&Fin        55.50      Placed  "
      ]
     },
     "execution_count": 3,
     "metadata": {},
     "output_type": "execute_result"
    }
   ],
   "source": [
    "df.head()"
   ]
  },
  {
   "cell_type": "markdown",
   "id": "c8e8b47b-5e95-4184-ac26-21fd8a55d1ba",
   "metadata": {},
   "source": [
    "# Preprocessing"
   ]
  },
  {
   "cell_type": "code",
   "execution_count": 4,
   "id": "94944c87-352c-49d9-b81d-9dfc3e0a9aed",
   "metadata": {},
   "outputs": [
    {
     "data": {
      "text/plain": [
       "(215, 13)"
      ]
     },
     "execution_count": 4,
     "metadata": {},
     "output_type": "execute_result"
    }
   ],
   "source": [
    "df.shape"
   ]
  },
  {
   "cell_type": "code",
   "execution_count": 5,
   "id": "c156a9db-ff2f-4cd5-ae09-bfee96782a45",
   "metadata": {},
   "outputs": [
    {
     "data": {
      "text/plain": [
       "gender                 0\n",
       "ssc_percentage         0\n",
       "ssc_board              0\n",
       "hsc_percentage         0\n",
       "hsc_board              0\n",
       "hsc_subject            0\n",
       "degree_percentage      0\n",
       "undergrad_degree       0\n",
       "work_experience        0\n",
       "emp_test_percentage    0\n",
       "specialisation         0\n",
       "mba_percent            0\n",
       "status                 0\n",
       "dtype: int64"
      ]
     },
     "execution_count": 5,
     "metadata": {},
     "output_type": "execute_result"
    }
   ],
   "source": [
    "df.isnull().sum()"
   ]
  },
  {
   "cell_type": "code",
   "execution_count": 6,
   "id": "92ceb133-c090-4850-9713-6f9d2f9b4005",
   "metadata": {},
   "outputs": [
    {
     "data": {
      "text/plain": [
       "0"
      ]
     },
     "execution_count": 6,
     "metadata": {},
     "output_type": "execute_result"
    }
   ],
   "source": [
    "df.duplicated().sum()"
   ]
  },
  {
   "cell_type": "code",
   "execution_count": 7,
   "id": "56012b5c-59c7-425a-9837-458e9768334f",
   "metadata": {},
   "outputs": [
    {
     "name": "stdout",
     "output_type": "stream",
     "text": [
      "<class 'pandas.core.frame.DataFrame'>\n",
      "RangeIndex: 215 entries, 0 to 214\n",
      "Data columns (total 13 columns):\n",
      " #   Column               Non-Null Count  Dtype  \n",
      "---  ------               --------------  -----  \n",
      " 0   gender               215 non-null    object \n",
      " 1   ssc_percentage       215 non-null    float64\n",
      " 2   ssc_board            215 non-null    object \n",
      " 3   hsc_percentage       215 non-null    float64\n",
      " 4   hsc_board            215 non-null    object \n",
      " 5   hsc_subject          215 non-null    object \n",
      " 6   degree_percentage    215 non-null    float64\n",
      " 7   undergrad_degree     215 non-null    object \n",
      " 8   work_experience      215 non-null    object \n",
      " 9   emp_test_percentage  215 non-null    float64\n",
      " 10  specialisation       215 non-null    object \n",
      " 11  mba_percent          215 non-null    float64\n",
      " 12  status               215 non-null    object \n",
      "dtypes: float64(5), object(8)\n",
      "memory usage: 22.0+ KB\n"
     ]
    }
   ],
   "source": [
    "df.info()"
   ]
  },
  {
   "cell_type": "code",
   "execution_count": 8,
   "id": "809c3675-b785-45ba-b79a-087f0d7532f9",
   "metadata": {},
   "outputs": [
    {
     "data": {
      "text/plain": [
       "0          Placed\n",
       "1          Placed\n",
       "2          Placed\n",
       "3      Not Placed\n",
       "4          Placed\n",
       "          ...    \n",
       "210        Placed\n",
       "211        Placed\n",
       "212        Placed\n",
       "213        Placed\n",
       "214    Not Placed\n",
       "Name: status, Length: 215, dtype: object"
      ]
     },
     "execution_count": 8,
     "metadata": {},
     "output_type": "execute_result"
    }
   ],
   "source": [
    "df['status']"
   ]
  },
  {
   "cell_type": "code",
   "execution_count": 9,
   "id": "29503836-269c-41d1-894b-794bc64850dd",
   "metadata": {},
   "outputs": [
    {
     "data": {
      "text/html": [
       "<div>\n",
       "<style scoped>\n",
       "    .dataframe tbody tr th:only-of-type {\n",
       "        vertical-align: middle;\n",
       "    }\n",
       "\n",
       "    .dataframe tbody tr th {\n",
       "        vertical-align: top;\n",
       "    }\n",
       "\n",
       "    .dataframe thead th {\n",
       "        text-align: right;\n",
       "    }\n",
       "</style>\n",
       "<table border=\"1\" class=\"dataframe\">\n",
       "  <thead>\n",
       "    <tr style=\"text-align: right;\">\n",
       "      <th></th>\n",
       "      <th>ssc_percentage</th>\n",
       "      <th>hsc_percentage</th>\n",
       "      <th>degree_percentage</th>\n",
       "      <th>emp_test_percentage</th>\n",
       "      <th>mba_percent</th>\n",
       "    </tr>\n",
       "  </thead>\n",
       "  <tbody>\n",
       "    <tr>\n",
       "      <th>count</th>\n",
       "      <td>215.000000</td>\n",
       "      <td>215.000000</td>\n",
       "      <td>215.000000</td>\n",
       "      <td>215.000000</td>\n",
       "      <td>215.000000</td>\n",
       "    </tr>\n",
       "    <tr>\n",
       "      <th>mean</th>\n",
       "      <td>67.303395</td>\n",
       "      <td>66.333163</td>\n",
       "      <td>66.370186</td>\n",
       "      <td>72.100558</td>\n",
       "      <td>62.278186</td>\n",
       "    </tr>\n",
       "    <tr>\n",
       "      <th>std</th>\n",
       "      <td>10.827205</td>\n",
       "      <td>10.897509</td>\n",
       "      <td>7.358743</td>\n",
       "      <td>13.275956</td>\n",
       "      <td>5.833385</td>\n",
       "    </tr>\n",
       "    <tr>\n",
       "      <th>min</th>\n",
       "      <td>40.890000</td>\n",
       "      <td>37.000000</td>\n",
       "      <td>50.000000</td>\n",
       "      <td>50.000000</td>\n",
       "      <td>51.210000</td>\n",
       "    </tr>\n",
       "    <tr>\n",
       "      <th>25%</th>\n",
       "      <td>60.600000</td>\n",
       "      <td>60.900000</td>\n",
       "      <td>61.000000</td>\n",
       "      <td>60.000000</td>\n",
       "      <td>57.945000</td>\n",
       "    </tr>\n",
       "    <tr>\n",
       "      <th>50%</th>\n",
       "      <td>67.000000</td>\n",
       "      <td>65.000000</td>\n",
       "      <td>66.000000</td>\n",
       "      <td>71.000000</td>\n",
       "      <td>62.000000</td>\n",
       "    </tr>\n",
       "    <tr>\n",
       "      <th>75%</th>\n",
       "      <td>75.700000</td>\n",
       "      <td>73.000000</td>\n",
       "      <td>72.000000</td>\n",
       "      <td>83.500000</td>\n",
       "      <td>66.255000</td>\n",
       "    </tr>\n",
       "    <tr>\n",
       "      <th>max</th>\n",
       "      <td>89.400000</td>\n",
       "      <td>97.700000</td>\n",
       "      <td>91.000000</td>\n",
       "      <td>98.000000</td>\n",
       "      <td>77.890000</td>\n",
       "    </tr>\n",
       "  </tbody>\n",
       "</table>\n",
       "</div>"
      ],
      "text/plain": [
       "       ssc_percentage  hsc_percentage  degree_percentage  emp_test_percentage  \\\n",
       "count      215.000000      215.000000         215.000000           215.000000   \n",
       "mean        67.303395       66.333163          66.370186            72.100558   \n",
       "std         10.827205       10.897509           7.358743            13.275956   \n",
       "min         40.890000       37.000000          50.000000            50.000000   \n",
       "25%         60.600000       60.900000          61.000000            60.000000   \n",
       "50%         67.000000       65.000000          66.000000            71.000000   \n",
       "75%         75.700000       73.000000          72.000000            83.500000   \n",
       "max         89.400000       97.700000          91.000000            98.000000   \n",
       "\n",
       "       mba_percent  \n",
       "count   215.000000  \n",
       "mean     62.278186  \n",
       "std       5.833385  \n",
       "min      51.210000  \n",
       "25%      57.945000  \n",
       "50%      62.000000  \n",
       "75%      66.255000  \n",
       "max      77.890000  "
      ]
     },
     "execution_count": 9,
     "metadata": {},
     "output_type": "execute_result"
    }
   ],
   "source": [
    "df.describe()"
   ]
  },
  {
   "cell_type": "markdown",
   "id": "90b59692-0446-432f-a263-8388fda49063",
   "metadata": {},
   "source": [
    "# EDA"
   ]
  },
  {
   "cell_type": "code",
   "execution_count": 12,
   "id": "2693f46e-f53b-4ffc-a79f-4809b417a4ab",
   "metadata": {},
   "outputs": [
    {
     "name": "stdout",
     "output_type": "stream",
     "text": [
      "                     ssc_percentage  hsc_percentage  degree_percentage  \\\n",
      "ssc_percentage             1.000000        0.511472           0.538404   \n",
      "hsc_percentage             0.511472        1.000000           0.434206   \n",
      "degree_percentage          0.538404        0.434206           1.000000   \n",
      "emp_test_percentage        0.261993        0.245113           0.224470   \n",
      "mba_percent                0.388478        0.354823           0.402364   \n",
      "\n",
      "                     emp_test_percentage  mba_percent  \n",
      "ssc_percentage                  0.261993     0.388478  \n",
      "hsc_percentage                  0.245113     0.354823  \n",
      "degree_percentage               0.224470     0.402364  \n",
      "emp_test_percentage             1.000000     0.218055  \n",
      "mba_percent                     0.218055     1.000000  \n"
     ]
    }
   ],
   "source": [
    "# Check what df looks like\n",
    "\n",
    "\n",
    "# Try selecting only numeric columns\n",
    "numeric_df = df.select_dtypes(include='number')\n",
    "\n",
    "# Then run correlation\n",
    "corr = numeric_df.corr()\n",
    "print(corr)\n"
   ]
  },
  {
   "cell_type": "code",
   "execution_count": 13,
   "id": "edd5744d-5c1b-424d-921c-dbd097fc9387",
   "metadata": {},
   "outputs": [
    {
     "data": {
      "text/plain": [
       "<Axes: >"
      ]
     },
     "execution_count": 13,
     "metadata": {},
     "output_type": "execute_result"
    },
    {
     "data": {
      "image/png": "[encoded data removed]",
      "text/plain": [
       "<Figure size 640x480 with 2 Axes>"
      ]
     },
     "metadata": {},
     "output_type": "display_data"
    }
   ],
   "source": [
    "import seaborn as sns\n",
    "sns.heatmap(corr,cmap='plasma',annot=True,fmt=\".2f\")"
   ]
  },
  {
   "cell_type": "code",
   "execution_count": 14,
   "id": "bb833d7f-566a-4aaa-9288-15d9fb149a8c",
   "metadata": {},
   "outputs": [
    {
     "data": {
      "image/png": "[encoded data removed]",
      "text/plain": [
       "<Figure size 640x480 with 1 Axes>"
      ]
     },
     "metadata": {},
     "output_type": "display_data"
    }
   ],
   "source": [
    "import matplotlib.pyplot as plt\n",
    "plt.hist(df['ssc_percentage'],bins=20)\n",
    "plt.title(\"Distribution of SSC Percentage\")\n",
    "plt.xlabel('Percentage')\n",
    "plt.ylabel('count')\n",
    "plt.show()"
   ]
  },
  {
   "cell_type": "code",
   "execution_count": 15,
   "id": "40a45487-df82-441c-8456-228282830291",
   "metadata": {},
   "outputs": [
    {
     "data": {
      "image/png": "[encoded data removed]",
      "text/plain": [
       "<Figure size 640x480 with 1 Axes>"
      ]
     },
     "metadata": {},
     "output_type": "display_data"
    }
   ],
   "source": [
    "import matplotlib.pyplot as plt\n",
    "plt.hist(df['gender'],bins=20)\n",
    "plt.title(\"Distribution of Male & Female\")\n",
    "plt.xlabel('Gender')\n",
    "plt.ylabel('count')\n",
    "plt.show()"
   ]
  },
  {
   "cell_type": "code",
   "execution_count": 17,
   "id": "f8c1f311-67e9-417d-bfca-9b99607929c4",
   "metadata": {},
   "outputs": [
    {
     "data": {
      "image/png": "[encoded data removed]",
      "text/plain": [
       "<Figure size 640x480 with 1 Axes>"
      ]
     },
     "metadata": {},
     "output_type": "display_data"
    }
   ],
   "source": [
    "sns.scatterplot(x='ssc_percentage',y='hsc_percentage',data=df,hue='status')\n",
    "plt.title(\"Correlation bw SSC and HSC Percentage\")\n",
    "plt.show()"
   ]
  },
  {
   "cell_type": "code",
   "execution_count": 18,
   "id": "1389ec61-1958-40e7-8bfa-49f9aea69680",
   "metadata": {},
   "outputs": [
    {
     "data": {
      "image/png": "[encoded data removed]",
      "text/plain": [
       "<Figure size 640x480 with 1 Axes>"
      ]
     },
     "metadata": {},
     "output_type": "display_data"
    }
   ],
   "source": [
    "\n",
    "\n",
    "sns.boxenplot(x='specialisation',y='degree_percentage',data=df)\n",
    "plt.title('Difference in Degree Percentage by Specialisation')\n",
    "plt.show()"
   ]
  },
  {
   "cell_type": "code",
   "execution_count": 19,
   "id": "b494c86f-f3d0-40a2-9128-5bcd9e4f2232",
   "metadata": {},
   "outputs": [],
   "source": [
    "df = pd.get_dummies(df,columns=['gender', 'ssc_board', 'hsc_board', 'hsc_subject', 'undergrad_degree', 'work_experience', 'specialisation', 'status'],drop_first=True)"
   ]
  },
  {
   "cell_type": "code",
   "execution_count": 20,
   "id": "dd10084a-efe2-4419-a31c-43f78310df5c",
   "metadata": {},
   "outputs": [
    {
     "data": {
      "text/html": [
       "<div>\n",
       "<style scoped>\n",
       "    .dataframe tbody tr th:only-of-type {\n",
       "        vertical-align: middle;\n",
       "    }\n",
       "\n",
       "    .dataframe tbody tr th {\n",
       "        vertical-align: top;\n",
       "    }\n",
       "\n",
       "    .dataframe thead th {\n",
       "        text-align: right;\n",
       "    }\n",
       "</style>\n",
       "<table border=\"1\" class=\"dataframe\">\n",
       "  <thead>\n",
       "    <tr style=\"text-align: right;\">\n",
       "      <th></th>\n",
       "      <th>ssc_percentage</th>\n",
       "      <th>hsc_percentage</th>\n",
       "      <th>degree_percentage</th>\n",
       "      <th>emp_test_percentage</th>\n",
       "      <th>mba_percent</th>\n",
       "      <th>gender_M</th>\n",
       "      <th>ssc_board_Others</th>\n",
       "      <th>hsc_board_Others</th>\n",
       "      <th>hsc_subject_Commerce</th>\n",
       "      <th>hsc_subject_Science</th>\n",
       "      <th>undergrad_degree_Others</th>\n",
       "      <th>undergrad_degree_Sci&amp;Tech</th>\n",
       "      <th>work_experience_Yes</th>\n",
       "      <th>specialisation_Mkt&amp;HR</th>\n",
       "      <th>status_Placed</th>\n",
       "    </tr>\n",
       "  </thead>\n",
       "  <tbody>\n",
       "    <tr>\n",
       "      <th>0</th>\n",
       "      <td>67.00</td>\n",
       "      <td>91.00</td>\n",
       "      <td>58.00</td>\n",
       "      <td>55.0</td>\n",
       "      <td>58.80</td>\n",
       "      <td>True</td>\n",
       "      <td>True</td>\n",
       "      <td>True</td>\n",
       "      <td>True</td>\n",
       "      <td>False</td>\n",
       "      <td>False</td>\n",
       "      <td>True</td>\n",
       "      <td>False</td>\n",
       "      <td>True</td>\n",
       "      <td>True</td>\n",
       "    </tr>\n",
       "    <tr>\n",
       "      <th>1</th>\n",
       "      <td>79.33</td>\n",
       "      <td>78.33</td>\n",
       "      <td>77.48</td>\n",
       "      <td>86.5</td>\n",
       "      <td>66.28</td>\n",
       "      <td>True</td>\n",
       "      <td>False</td>\n",
       "      <td>True</td>\n",
       "      <td>False</td>\n",
       "      <td>True</td>\n",
       "      <td>False</td>\n",
       "      <td>True</td>\n",
       "      <td>True</td>\n",
       "      <td>False</td>\n",
       "      <td>True</td>\n",
       "    </tr>\n",
       "    <tr>\n",
       "      <th>2</th>\n",
       "      <td>65.00</td>\n",
       "      <td>68.00</td>\n",
       "      <td>64.00</td>\n",
       "      <td>75.0</td>\n",
       "      <td>57.80</td>\n",
       "      <td>True</td>\n",
       "      <td>False</td>\n",
       "      <td>False</td>\n",
       "      <td>False</td>\n",
       "      <td>False</td>\n",
       "      <td>False</td>\n",
       "      <td>False</td>\n",
       "      <td>False</td>\n",
       "      <td>False</td>\n",
       "      <td>True</td>\n",
       "    </tr>\n",
       "    <tr>\n",
       "      <th>3</th>\n",
       "      <td>56.00</td>\n",
       "      <td>52.00</td>\n",
       "      <td>52.00</td>\n",
       "      <td>66.0</td>\n",
       "      <td>59.43</td>\n",
       "      <td>True</td>\n",
       "      <td>False</td>\n",
       "      <td>False</td>\n",
       "      <td>False</td>\n",
       "      <td>True</td>\n",
       "      <td>False</td>\n",
       "      <td>True</td>\n",
       "      <td>False</td>\n",
       "      <td>True</td>\n",
       "      <td>False</td>\n",
       "    </tr>\n",
       "    <tr>\n",
       "      <th>4</th>\n",
       "      <td>85.80</td>\n",
       "      <td>73.60</td>\n",
       "      <td>73.30</td>\n",
       "      <td>96.8</td>\n",
       "      <td>55.50</td>\n",
       "      <td>True</td>\n",
       "      <td>False</td>\n",
       "      <td>False</td>\n",
       "      <td>True</td>\n",
       "      <td>False</td>\n",
       "      <td>False</td>\n",
       "      <td>False</td>\n",
       "      <td>False</td>\n",
       "      <td>False</td>\n",
       "      <td>True</td>\n",
       "    </tr>\n",
       "    <tr>\n",
       "      <th>...</th>\n",
       "      <td>...</td>\n",
       "      <td>...</td>\n",
       "      <td>...</td>\n",
       "      <td>...</td>\n",
       "      <td>...</td>\n",
       "      <td>...</td>\n",
       "      <td>...</td>\n",
       "      <td>...</td>\n",
       "      <td>...</td>\n",
       "      <td>...</td>\n",
       "      <td>...</td>\n",
       "      <td>...</td>\n",
       "      <td>...</td>\n",
       "      <td>...</td>\n",
       "      <td>...</td>\n",
       "    </tr>\n",
       "    <tr>\n",
       "      <th>210</th>\n",
       "      <td>80.60</td>\n",
       "      <td>82.00</td>\n",
       "      <td>77.60</td>\n",
       "      <td>91.0</td>\n",
       "      <td>74.49</td>\n",
       "      <td>True</td>\n",
       "      <td>True</td>\n",
       "      <td>True</td>\n",
       "      <td>True</td>\n",
       "      <td>False</td>\n",
       "      <td>False</td>\n",
       "      <td>False</td>\n",
       "      <td>False</td>\n",
       "      <td>False</td>\n",
       "      <td>True</td>\n",
       "    </tr>\n",
       "    <tr>\n",
       "      <th>211</th>\n",
       "      <td>58.00</td>\n",
       "      <td>60.00</td>\n",
       "      <td>72.00</td>\n",
       "      <td>74.0</td>\n",
       "      <td>53.62</td>\n",
       "      <td>True</td>\n",
       "      <td>True</td>\n",
       "      <td>True</td>\n",
       "      <td>False</td>\n",
       "      <td>True</td>\n",
       "      <td>False</td>\n",
       "      <td>True</td>\n",
       "      <td>False</td>\n",
       "      <td>False</td>\n",
       "      <td>True</td>\n",
       "    </tr>\n",
       "    <tr>\n",
       "      <th>212</th>\n",
       "      <td>67.00</td>\n",
       "      <td>67.00</td>\n",
       "      <td>73.00</td>\n",
       "      <td>59.0</td>\n",
       "      <td>69.72</td>\n",
       "      <td>True</td>\n",
       "      <td>True</td>\n",
       "      <td>True</td>\n",
       "      <td>True</td>\n",
       "      <td>False</td>\n",
       "      <td>False</td>\n",
       "      <td>False</td>\n",
       "      <td>True</td>\n",
       "      <td>False</td>\n",
       "      <td>True</td>\n",
       "    </tr>\n",
       "    <tr>\n",
       "      <th>213</th>\n",
       "      <td>74.00</td>\n",
       "      <td>66.00</td>\n",
       "      <td>58.00</td>\n",
       "      <td>70.0</td>\n",
       "      <td>60.23</td>\n",
       "      <td>False</td>\n",
       "      <td>True</td>\n",
       "      <td>True</td>\n",
       "      <td>True</td>\n",
       "      <td>False</td>\n",
       "      <td>False</td>\n",
       "      <td>False</td>\n",
       "      <td>False</td>\n",
       "      <td>True</td>\n",
       "      <td>True</td>\n",
       "    </tr>\n",
       "    <tr>\n",
       "      <th>214</th>\n",
       "      <td>62.00</td>\n",
       "      <td>58.00</td>\n",
       "      <td>53.00</td>\n",
       "      <td>89.0</td>\n",
       "      <td>60.22</td>\n",
       "      <td>True</td>\n",
       "      <td>False</td>\n",
       "      <td>True</td>\n",
       "      <td>False</td>\n",
       "      <td>True</td>\n",
       "      <td>False</td>\n",
       "      <td>False</td>\n",
       "      <td>False</td>\n",
       "      <td>True</td>\n",
       "      <td>False</td>\n",
       "    </tr>\n",
       "  </tbody>\n",
       "</table>\n",
       "<p>215 rows × 15 columns</p>\n",
       "</div>"
      ],
      "text/plain": [
       "     ssc_percentage  hsc_percentage  degree_percentage  emp_test_percentage  \\\n",
       "0             67.00           91.00              58.00                 55.0   \n",
       "1             79.33           78.33              77.48                 86.5   \n",
       "2             65.00           68.00              64.00                 75.0   \n",
       "3             56.00           52.00              52.00                 66.0   \n",
       "4             85.80           73.60              73.30                 96.8   \n",
       "..              ...             ...                ...                  ...   \n",
       "210           80.60           82.00              77.60                 91.0   \n",
       "211           58.00           60.00              72.00                 74.0   \n",
       "212           67.00           67.00              73.00                 59.0   \n",
       "213           74.00           66.00              58.00                 70.0   \n",
       "214           62.00           58.00              53.00                 89.0   \n",
       "\n",
       "     mba_percent  gender_M  ssc_board_Others  hsc_board_Others  \\\n",
       "0          58.80      True              True              True   \n",
       "1          66.28      True             False              True   \n",
       "2          57.80      True             False             False   \n",
       "3          59.43      True             False             False   \n",
       "4          55.50      True             False             False   \n",
       "..           ...       ...               ...               ...   \n",
       "210        74.49      True              True              True   \n",
       "211        53.62      True              True              True   \n",
       "212        69.72      True              True              True   \n",
       "213        60.23     False              True              True   \n",
       "214        60.22      True             False              True   \n",
       "\n",
       "     hsc_subject_Commerce  hsc_subject_Science  undergrad_degree_Others  \\\n",
       "0                    True                False                    False   \n",
       "1                   False                 True                    False   \n",
       "2                   False                False                    False   \n",
       "3                   False                 True                    False   \n",
       "4                    True                False                    False   \n",
       "..                    ...                  ...                      ...   \n",
       "210                  True                False                    False   \n",
       "211                 False                 True                    False   \n",
       "212                  True                False                    False   \n",
       "213                  True                False                    False   \n",
       "214                 False                 True                    False   \n",
       "\n",
       "     undergrad_degree_Sci&Tech  work_experience_Yes  specialisation_Mkt&HR  \\\n",
       "0                         True                False                   True   \n",
       "1                         True                 True                  False   \n",
       "2                        False                False                  False   \n",
       "3                         True                False                   True   \n",
       "4                        False                False                  False   \n",
       "..                         ...                  ...                    ...   \n",
       "210                      False                False                  False   \n",
       "211                       True                False                  False   \n",
       "212                      False                 True                  False   \n",
       "213                      False                False                   True   \n",
       "214                      False                False                   True   \n",
       "\n",
       "     status_Placed  \n",
       "0             True  \n",
       "1             True  \n",
       "2             True  \n",
       "3            False  \n",
       "4             True  \n",
       "..             ...  \n",
       "210           True  \n",
       "211           True  \n",
       "212           True  \n",
       "213           True  \n",
       "214          False  \n",
       "\n",
       "[215 rows x 15 columns]"
      ]
     },
     "execution_count": 20,
     "metadata": {},
     "output_type": "execute_result"
    }
   ],
   "source": [
    "df"
   ]
  },
  {
   "cell_type": "markdown",
   "id": "acdab2a0-a075-49d0-8419-3c8c7ba104bc",
   "metadata": {},
   "source": [
    "# Train Test Split"
   ]
  },
  {
   "cell_type": "code",
   "execution_count": 21,
   "id": "4d614dda-4241-4c9a-8818-2c9e7da61e5e",
   "metadata": {},
   "outputs": [],
   "source": [
    "x = df.drop('status_Placed',axis=1)\n",
    "y = df['status_Placed']"
   ]
  },
  {
   "cell_type": "code",
   "execution_count": 22,
   "id": "9da94fd3-09e9-41a4-ad24-461516cdda94",
   "metadata": {},
   "outputs": [
    {
     "name": "stdout",
     "output_type": "stream",
     "text": [
      "(215, 14) \n",
      "\n",
      " (215,)\n"
     ]
    }
   ],
   "source": [
    "print(x.shape,'\\n\\n',y.shape)"
   ]
  },
  {
   "cell_type": "code",
   "execution_count": 24,
   "id": "734b2e56-f5cb-4f71-987d-4514610a6cc5",
   "metadata": {},
   "outputs": [
    {
     "name": "stdout",
     "output_type": "stream",
     "text": [
      "(172, 14) \n",
      "\n",
      " (43, 14)\n"
     ]
    }
   ],
   "source": [
    "from sklearn.model_selection import train_test_split\n",
    "X_train, X_test, y_train, y_test = train_test_split(x, y, test_size=0.2, random_state=2)\n",
    "print(X_train.shape,'\\n\\n',X_test.shape) #giving 20% data to test and 80% to train"
   ]
  },
  {
   "cell_type": "code",
   "execution_count": 29,
   "id": "3a1980b4-17db-44a7-a281-36eccaba4140",
   "metadata": {},
   "outputs": [
    {
     "name": "stderr",
     "output_type": "stream",
     "text": [
      "C:\\Users\\Admin\\anaconda3\\Lib\\site-packages\\sklearn\\linear_model\\_logistic.py:469: ConvergenceWarning: lbfgs failed to converge (status=1):\n",
      "STOP: TOTAL NO. of ITERATIONS REACHED LIMIT.\n",
      "\n",
      "Increase the number of iterations (max_iter) or scale the data as shown in:\n",
      "    https://scikit-learn.org/stable/modules/preprocessing.html\n",
      "Please also refer to the documentation for alternative solver options:\n",
      "    https://scikit-learn.org/stable/modules/linear_model.html#logistic-regression\n",
      "  n_iter_i = _check_optimize_result(\n"
     ]
    },
    {
     "data": {
      "text/plain": [
       "array([ True,  True, False,  True,  True,  True,  True, False, False,\n",
       "        True,  True,  True,  True, False,  True,  True,  True,  True,\n",
       "       False, False,  True,  True,  True,  True, False,  True,  True,\n",
       "        True,  True,  True,  True,  True,  True,  True,  True,  True,\n",
       "       False,  True,  True, False,  True,  True,  True])"
      ]
     },
     "execution_count": 29,
     "metadata": {},
     "output_type": "execute_result"
    }
   ],
   "source": [
    "from sklearn.linear_model import LogisticRegression\n",
    "lg = LogisticRegression()\n",
    "lg.fit(X_train,y_train)\n",
    "y_pred = lg.predict(X_test)\n",
    "y_pred #true mean person placed otherwise not placed"
   ]
  },
  {
   "cell_type": "code",
   "execution_count": 30,
   "id": "cb36335a-f903-4b7e-86c4-faaeb8041a3e",
   "metadata": {},
   "outputs": [
    {
     "name": "stdout",
     "output_type": "stream",
     "text": [
      "0.813953488372093\n"
     ]
    }
   ],
   "source": [
    "from sklearn.metrics import accuracy_score\n",
    "print(accuracy_score(y_test,y_pred))"
   ]
  },
  {
   "cell_type": "code",
   "execution_count": 31,
   "id": "30e318ae-57d4-4ff2-bb94-f0d66c902e0a",
   "metadata": {},
   "outputs": [
    {
     "data": {
      "text/html": [
       "<div>\n",
       "<style scoped>\n",
       "    .dataframe tbody tr th:only-of-type {\n",
       "        vertical-align: middle;\n",
       "    }\n",
       "\n",
       "    .dataframe tbody tr th {\n",
       "        vertical-align: top;\n",
       "    }\n",
       "\n",
       "    .dataframe thead th {\n",
       "        text-align: right;\n",
       "    }\n",
       "</style>\n",
       "<table border=\"1\" class=\"dataframe\">\n",
       "  <thead>\n",
       "    <tr style=\"text-align: right;\">\n",
       "      <th></th>\n",
       "      <th>ssc_percentage</th>\n",
       "      <th>hsc_percentage</th>\n",
       "      <th>degree_percentage</th>\n",
       "      <th>emp_test_percentage</th>\n",
       "      <th>mba_percent</th>\n",
       "      <th>gender_M</th>\n",
       "      <th>ssc_board_Others</th>\n",
       "      <th>hsc_board_Others</th>\n",
       "      <th>hsc_subject_Commerce</th>\n",
       "      <th>hsc_subject_Science</th>\n",
       "      <th>undergrad_degree_Others</th>\n",
       "      <th>undergrad_degree_Sci&amp;Tech</th>\n",
       "      <th>work_experience_Yes</th>\n",
       "      <th>specialisation_Mkt&amp;HR</th>\n",
       "      <th>status_Placed</th>\n",
       "    </tr>\n",
       "  </thead>\n",
       "  <tbody>\n",
       "    <tr>\n",
       "      <th>214</th>\n",
       "      <td>62.00</td>\n",
       "      <td>58.00</td>\n",
       "      <td>53.0</td>\n",
       "      <td>89.0</td>\n",
       "      <td>60.22</td>\n",
       "      <td>True</td>\n",
       "      <td>False</td>\n",
       "      <td>True</td>\n",
       "      <td>False</td>\n",
       "      <td>True</td>\n",
       "      <td>False</td>\n",
       "      <td>False</td>\n",
       "      <td>False</td>\n",
       "      <td>True</td>\n",
       "      <td>False</td>\n",
       "    </tr>\n",
       "    <tr>\n",
       "      <th>13</th>\n",
       "      <td>77.00</td>\n",
       "      <td>87.00</td>\n",
       "      <td>59.0</td>\n",
       "      <td>68.0</td>\n",
       "      <td>68.63</td>\n",
       "      <td>False</td>\n",
       "      <td>False</td>\n",
       "      <td>False</td>\n",
       "      <td>True</td>\n",
       "      <td>False</td>\n",
       "      <td>False</td>\n",
       "      <td>False</td>\n",
       "      <td>False</td>\n",
       "      <td>False</td>\n",
       "      <td>True</td>\n",
       "    </tr>\n",
       "    <tr>\n",
       "      <th>46</th>\n",
       "      <td>70.89</td>\n",
       "      <td>71.98</td>\n",
       "      <td>65.6</td>\n",
       "      <td>68.0</td>\n",
       "      <td>71.63</td>\n",
       "      <td>False</td>\n",
       "      <td>True</td>\n",
       "      <td>True</td>\n",
       "      <td>False</td>\n",
       "      <td>True</td>\n",
       "      <td>False</td>\n",
       "      <td>False</td>\n",
       "      <td>False</td>\n",
       "      <td>True</td>\n",
       "      <td>False</td>\n",
       "    </tr>\n",
       "    <tr>\n",
       "      <th>131</th>\n",
       "      <td>74.90</td>\n",
       "      <td>57.00</td>\n",
       "      <td>62.0</td>\n",
       "      <td>80.0</td>\n",
       "      <td>60.78</td>\n",
       "      <td>False</td>\n",
       "      <td>True</td>\n",
       "      <td>True</td>\n",
       "      <td>False</td>\n",
       "      <td>True</td>\n",
       "      <td>True</td>\n",
       "      <td>False</td>\n",
       "      <td>True</td>\n",
       "      <td>False</td>\n",
       "      <td>True</td>\n",
       "    </tr>\n",
       "    <tr>\n",
       "      <th>0</th>\n",
       "      <td>67.00</td>\n",
       "      <td>91.00</td>\n",
       "      <td>58.0</td>\n",
       "      <td>55.0</td>\n",
       "      <td>58.80</td>\n",
       "      <td>True</td>\n",
       "      <td>True</td>\n",
       "      <td>True</td>\n",
       "      <td>True</td>\n",
       "      <td>False</td>\n",
       "      <td>False</td>\n",
       "      <td>True</td>\n",
       "      <td>False</td>\n",
       "      <td>True</td>\n",
       "      <td>True</td>\n",
       "    </tr>\n",
       "  </tbody>\n",
       "</table>\n",
       "</div>"
      ],
      "text/plain": [
       "     ssc_percentage  hsc_percentage  degree_percentage  emp_test_percentage  \\\n",
       "214           62.00           58.00               53.0                 89.0   \n",
       "13            77.00           87.00               59.0                 68.0   \n",
       "46            70.89           71.98               65.6                 68.0   \n",
       "131           74.90           57.00               62.0                 80.0   \n",
       "0             67.00           91.00               58.0                 55.0   \n",
       "\n",
       "     mba_percent  gender_M  ssc_board_Others  hsc_board_Others  \\\n",
       "214        60.22      True             False              True   \n",
       "13         68.63     False             False             False   \n",
       "46         71.63     False              True              True   \n",
       "131        60.78     False              True              True   \n",
       "0          58.80      True              True              True   \n",
       "\n",
       "     hsc_subject_Commerce  hsc_subject_Science  undergrad_degree_Others  \\\n",
       "214                 False                 True                    False   \n",
       "13                   True                False                    False   \n",
       "46                  False                 True                    False   \n",
       "131                 False                 True                     True   \n",
       "0                    True                False                    False   \n",
       "\n",
       "     undergrad_degree_Sci&Tech  work_experience_Yes  specialisation_Mkt&HR  \\\n",
       "214                      False                False                   True   \n",
       "13                       False                False                  False   \n",
       "46                       False                False                   True   \n",
       "131                      False                 True                  False   \n",
       "0                         True                False                   True   \n",
       "\n",
       "     status_Placed  \n",
       "214          False  \n",
       "13            True  \n",
       "46           False  \n",
       "131           True  \n",
       "0             True  "
      ]
     },
     "execution_count": 31,
     "metadata": {},
     "output_type": "execute_result"
    }
   ],
   "source": [
    "df.sample(5) #to take data from coloums to give input so model predict if person placed or unplaced"
   ]
  },
  {
   "cell_type": "code",
   "execution_count": 33,
   "id": "5c35090d-cb92-4096-ad69-299282540884",
   "metadata": {},
   "outputs": [
    {
     "name": "stdout",
     "output_type": "stream",
     "text": [
      "this person is placed for the job\n"
     ]
    },
    {
     "name": "stderr",
     "output_type": "stream",
     "text": [
      "C:\\Users\\Admin\\anaconda3\\Lib\\site-packages\\sklearn\\base.py:493: UserWarning: X does not have valid feature names, but LogisticRegression was fitted with feature names\n",
      "  warnings.warn(\n"
     ]
    }
   ],
   "source": [
    "input_data = (77.00,87.00,59.0,68.0,68.63,0,0,0,1,0,0,0,0,0)\n",
    " #0 for false 1 for true\n",
    "\n",
    "np_df = np.asarray(input_data)\n",
    "reshaped_df = np_df.reshape(1,-1)\n",
    "pred = lg.predict(reshaped_df)\n",
    "if pred[0] == 1:\n",
    "    print(\"this person is placed for the job\")\n",
    "else:\n",
    "    print(\"this person is not placed for the job\")\n",
    "    \n",
    "    \n",
    "import pickle\n",
    "pickle.dump(lg,open('placement.pkl','wb'))\n"
   ]
  },
  {
   "cell_type": "code",
   "execution_count": null,
   "id": "091dff5e-73b1-443d-a804-848e196c298f",
   "metadata": {},
   "outputs": [],
   "source": []
  }
 ],
 "metadata": {
  "kernelspec": {
   "display_name": "Python 3 (ipykernel)",
   "language": "python",
   "name": "python3"
  },
  "language_info": {
   "codemirror_mode": {
    "name": "ipython",
    "version": 3
   },
   "file_extension": ".py",
   "mimetype": "text/x-python",
   "name": "python",
   "nbconvert_exporter": "python",
   "pygments_lexer": "ipython3",
   "version": "3.12.7"
  }
 },
 "nbformat": 4,
 "nbformat_minor": 5
}
